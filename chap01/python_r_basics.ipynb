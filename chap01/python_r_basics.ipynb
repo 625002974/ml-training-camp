{
  "nbformat": 4,
  "nbformat_minor": 0,
  "metadata": {
    "kernelspec": {
      "display_name": "Python 3",
      "language": "python",
      "name": "python3"
    },
    "language_info": {
      "codemirror_mode": {
        "name": "ipython",
        "version": 3
      },
      "file_extension": ".py",
      "mimetype": "text/x-python",
      "name": "python",
      "nbconvert_exporter": "python",
      "pygments_lexer": "ipython3",
      "version": "3.7.4"
    },
    "pycharm": {
      "stem_cell": {
        "cell_type": "raw",
        "metadata": {
          "collapsed": false
        },
        "source": []
      }
    },
    "colab": {
      "name": "python-r-basics.ipynb",
      "provenance": []
    }
  },
  "cells": [
    {
      "cell_type": "markdown",
      "metadata": {
        "id": "77k8D7YFv-7I"
      },
      "source": [
        "# Python/R Basics\n"
      ]
    },
    {
      "cell_type": "markdown",
      "metadata": {
        "id": "LkPBDMvmv-7N"
      },
      "source": [
        "## Python Basics\n",
        " \n",
        "\n",
        "\n"
      ]
    },
    {
      "cell_type": "markdown",
      "metadata": {
        "id": "kt4ffPp4v-7N"
      },
      "source": [
        "### Define Functions"
      ]
    },
    {
      "cell_type": "markdown",
      "metadata": {
        "id": "qmWEkneFwys2"
      },
      "source": [
        "Note that type hint will not force type conversion (unlike cython or other statically typed language)."
      ]
    },
    {
      "cell_type": "code",
      "metadata": {
        "pycharm": {
          "name": "#%%\n"
        },
        "id": "TGZR3d2Jv-7O"
      },
      "source": [
        "def myfunc(a:float, *args, **kwargs) -> str:\n",
        "    return str(a)"
      ],
      "execution_count": null,
      "outputs": []
    },
    {
      "cell_type": "code",
      "metadata": {
        "pycharm": {
          "name": "#%%\n"
        },
        "colab": {
          "base_uri": "https://localhost:8080/",
          "height": 35
        },
        "id": "CIyyLTc1v-7O",
        "outputId": "b560bf60-d582-4d84-bb9b-66a5a5f3e005"
      },
      "source": [
        "# This should not work, but it DOES!\n",
        "import numpy as np\n",
        "x = np.array([1,1])\n",
        "myfunc(x)"
      ],
      "execution_count": null,
      "outputs": [
        {
          "output_type": "execute_result",
          "data": {
            "application/vnd.google.colaboratory.intrinsic+json": {
              "type": "string"
            },
            "text/plain": [
              "'[1 1]'"
            ]
          },
          "metadata": {
            "tags": []
          },
          "execution_count": 2
        }
      ]
    },
    {
      "cell_type": "markdown",
      "metadata": {
        "id": "w0V12K5VwxU1"
      },
      "source": [
        "`*args` is called list unpacks. Inside the function, the `args` are just like lists. "
      ]
    },
    {
      "cell_type": "code",
      "metadata": {
        "pycharm": {
          "name": "#%%\n"
        },
        "colab": {
          "base_uri": "https://localhost:8080/",
          "height": 219
        },
        "id": "c_yfxCOGv-7O",
        "outputId": "eaf417ef-acef-4994-8044-2ab34f2ce7a4"
      },
      "source": [
        "def my_sum(*args):\n",
        "    result = 0\n",
        "    for x in args:\n",
        "        result += x\n",
        "    return result\n",
        "mysum(1,2,3) # Works\n",
        "mysum(2,3,5,6) #Works"
      ],
      "execution_count": null,
      "outputs": [
        {
          "output_type": "error",
          "ename": "NameError",
          "evalue": "ignored",
          "traceback": [
            "\u001b[0;31m---------------------------------------------------------------------------\u001b[0m",
            "\u001b[0;31mNameError\u001b[0m                                 Traceback (most recent call last)",
            "\u001b[0;32m<ipython-input-3-155c0309244c>\u001b[0m in \u001b[0;36m<module>\u001b[0;34m()\u001b[0m\n\u001b[1;32m      4\u001b[0m         \u001b[0mresult\u001b[0m \u001b[0;34m+=\u001b[0m \u001b[0mx\u001b[0m\u001b[0;34m\u001b[0m\u001b[0;34m\u001b[0m\u001b[0m\n\u001b[1;32m      5\u001b[0m     \u001b[0;32mreturn\u001b[0m \u001b[0mresult\u001b[0m\u001b[0;34m\u001b[0m\u001b[0;34m\u001b[0m\u001b[0m\n\u001b[0;32m----> 6\u001b[0;31m \u001b[0mmysum\u001b[0m\u001b[0;34m(\u001b[0m\u001b[0;36m1\u001b[0m\u001b[0;34m,\u001b[0m\u001b[0;36m2\u001b[0m\u001b[0;34m,\u001b[0m\u001b[0;36m3\u001b[0m\u001b[0;34m)\u001b[0m \u001b[0;31m# Works\u001b[0m\u001b[0;34m\u001b[0m\u001b[0;34m\u001b[0m\u001b[0m\n\u001b[0m\u001b[1;32m      7\u001b[0m \u001b[0mmysum\u001b[0m\u001b[0;34m(\u001b[0m\u001b[0;36m2\u001b[0m\u001b[0;34m,\u001b[0m\u001b[0;36m3\u001b[0m\u001b[0;34m,\u001b[0m\u001b[0;36m5\u001b[0m\u001b[0;34m,\u001b[0m\u001b[0;36m6\u001b[0m\u001b[0;34m)\u001b[0m \u001b[0;31m#Works\u001b[0m\u001b[0;34m\u001b[0m\u001b[0;34m\u001b[0m\u001b[0m\n",
            "\u001b[0;31mNameError\u001b[0m: name 'mysum' is not defined"
          ]
        }
      ]
    },
    {
      "cell_type": "markdown",
      "metadata": {
        "id": "4Qt9sVxnxUVv"
      },
      "source": [
        "On the other hand, `**kwargs` is called keyword argument. It is basically a python dictionary. "
      ]
    },
    {
      "cell_type": "code",
      "metadata": {
        "id": "6s-dM0bxyAzd"
      },
      "source": [
        "def my_concat(**kwargs):\n",
        "    result = \"\"\n",
        "    \n",
        "    for k, v in kwargs.items():\n",
        "        result += v\n",
        "    return result\n",
        "my_concat(x=\"a\",y=\"b\") # works\n",
        "my_concat(fff = 1, bsr=2) # works"
      ],
      "execution_count": null,
      "outputs": []
    },
    {
      "cell_type": "markdown",
      "metadata": {
        "id": "ThdvxhGYv-7P"
      },
      "source": [
        "### Exception Handling\n",
        "\n",
        "---\n",
        "The most commonly used ways for exception handling is to raise an exception (also called throw). "
      ]
    },
    {
      "cell_type": "code",
      "metadata": {
        "pycharm": {
          "name": "#%%\n"
        },
        "id": "yL8uNyM0v-7P"
      },
      "source": [
        "def raise_exception(x):\n",
        "    raise Exception(\"I am an EXCEPTION!!!\") # Something bad has happend\n",
        "\n",
        "def catcher(x):\n",
        "    try:\n",
        "        raise_exception(x) # This will run the code. If everything is fine, it will return normally.\n",
        "    except (TypeError, NameError):  # If a specific error occurs, this will follow the behavior. \n",
        "        print(\"I am ok with this!\")\n",
        "    except Exception as e: # This is often used to handle unknown exception, by letting someone else do the job\n",
        "        raise e\n",
        "    finally: # This will always execute no matter what\n",
        "        print(\"Let us swallow everything when exception occurs!\")\n",
        "    \n",
        "    "
      ],
      "execution_count": null,
      "outputs": []
    },
    {
      "cell_type": "code",
      "metadata": {
        "pycharm": {
          "name": "#%%\n"
        },
        "id": "8h2DbzdGv-7P"
      },
      "source": [
        "catcher(1)"
      ],
      "execution_count": null,
      "outputs": []
    },
    {
      "cell_type": "markdown",
      "metadata": {
        "id": "d_jAkz7OzNB1"
      },
      "source": [
        "There are quite some problem with the following approach.\n",
        "\n",
        "\n",
        "\n",
        "*   It breaks the program, as long as one exception is not handled.\n",
        "*   This is ok if we are testing our code. However, if this is a production system, you don't want a night time call to restart the system.\n",
        "*   Once one function throws an exception, everyone else that calls the function has to modify their code by addding `try-except` blocks.\n",
        "*   Many exception will be passed all the way to the top, and then handled. However, the top function does not know the details of each function! Therefore, it is extremely hard to devise a complete plan. \n",
        "\n"
      ]
    },
    {
      "cell_type": "markdown",
      "metadata": {
        "id": "w4_WUu9Cz2RL"
      },
      "source": [
        "An alternative way is to use log. There are many logging options and we will not delve into the details. The idiom is to log what goes wrong and specify the bevahior. \n",
        "\n",
        "The advantage is that you will keep the program warning, and by adjusting the log level, you can adjust the behavior. However, **someone still have to handle the exceptions!**"
      ]
    },
    {
      "cell_type": "code",
      "metadata": {
        "pycharm": {
          "name": "#%%\n"
        },
        "id": "9QV8D7Knv-7Q"
      },
      "source": [
        "import logging\n",
        "logging.info(\"This is some useful information.\")\n",
        "logging.warning(\"This is some warning!\")\n",
        "logging.error(\"Something went wrong!\")\n"
      ],
      "execution_count": null,
      "outputs": []
    },
    {
      "cell_type": "markdown",
      "metadata": {
        "id": "7_nazaSC0ds2"
      },
      "source": [
        "A final option, that is very popular is to use a Monad. Monad is quite complex to explain. So let us see an example. "
      ]
    },
    {
      "cell_type": "code",
      "metadata": {
        "id": "zEzDul9T1AnU"
      },
      "source": [
        "class Failure():\n",
        "    def __init__(self, value, failed=False):\n",
        "        self.value = value\n",
        "        self.failed = failed\n",
        "    def get(self):\n",
        "        return self.value\n",
        "    def is_failed(self):\n",
        "        return self.failed\n",
        "    def __str__(self):\n",
        "        return ' '.join([str(self.value), str(self.failed)])\n",
        "    def __or__(self, f):\n",
        "        if self.failed:\n",
        "            return self\n",
        "        try:\n",
        "            x = f(self.get())\n",
        "            return Failure(x)\n",
        "        except:\n",
        "            return Failure(None, True)"
      ],
      "execution_count": null,
      "outputs": []
    },
    {
      "cell_type": "code",
      "metadata": {
        "colab": {
          "base_uri": "https://localhost:8080/"
        },
        "id": "GV3tlwTH1EzP",
        "outputId": "8d64ee61-f6ea-49c1-bde7-bc24f7e3e1b1"
      },
      "source": [
        "# This will work.\n",
        "from operator import neg\n",
        "x = '1'\n",
        "y = Failure(x) | int | neg | str\n",
        "print(y)"
      ],
      "execution_count": null,
      "outputs": [
        {
          "output_type": "stream",
          "text": [
            "-1 False\n"
          ],
          "name": "stdout"
        }
      ]
    },
    {
      "cell_type": "code",
      "metadata": {
        "colab": {
          "base_uri": "https://localhost:8080/"
        },
        "id": "PIKc2eru16ps",
        "outputId": "482ec514-3d6a-48c6-c236-09e10e52f5ee"
      },
      "source": [
        "# This will not\n",
        "from operator import neg\n",
        "x = 'hahaha'\n",
        "y = Failure(x) | int | neg | str\n",
        "print(y)"
      ],
      "execution_count": null,
      "outputs": [
        {
          "output_type": "stream",
          "text": [
            "None True\n"
          ],
          "name": "stdout"
        }
      ]
    },
    {
      "cell_type": "markdown",
      "metadata": {
        "id": "CwDDrPQ62jn-"
      },
      "source": [
        "A beautiful collection of functional programming primitives can be found [here](https://github.com/jasondelaat/pymonad.git). Use the following command to install.\n"
      ]
    },
    {
      "cell_type": "markdown",
      "metadata": {
        "id": "f-qRTXp3v-7Q"
      },
      "source": [
        "### Python Class"
      ]
    },
    {
      "cell_type": "code",
      "metadata": {
        "pycharm": {
          "name": "#%%\n"
        },
        "id": "WMIqTOnkv-7Q"
      },
      "source": [
        "class MyClass(object):\n",
        "    def __init__(self, x):\n",
        "        self.x = x\n",
        "    def __del__(self): # WARNING: Perhaps a very bad idea!\n",
        "        print(\"I am gone\")"
      ],
      "execution_count": null,
      "outputs": []
    },
    {
      "cell_type": "code",
      "metadata": {
        "pycharm": {
          "name": "#%%\n"
        },
        "id": "HFxU9U2Nv-7Q"
      },
      "source": [
        "my_class = MyClass(1)"
      ],
      "execution_count": null,
      "outputs": []
    },
    {
      "cell_type": "code",
      "metadata": {
        "pycharm": {
          "name": "#%%\n"
        },
        "id": "oKH1m7ZQv-7Q"
      },
      "source": [
        "del my_class"
      ],
      "execution_count": null,
      "outputs": []
    },
    {
      "cell_type": "code",
      "metadata": {
        "pycharm": {
          "name": "#%%\n"
        },
        "id": "ZOCTWQQ9v-7R"
      },
      "source": [
        "my_class"
      ],
      "execution_count": null,
      "outputs": []
    },
    {
      "cell_type": "code",
      "metadata": {
        "pycharm": {
          "name": "#%%\n"
        },
        "id": "hU941s5-v-7R"
      },
      "source": [
        "my_class_a = MyClass(1)\n",
        "my_class_b = my_class_a\n",
        "my_class_c = MyClass(1)"
      ],
      "execution_count": null,
      "outputs": []
    },
    {
      "cell_type": "code",
      "metadata": {
        "pycharm": {
          "name": "#%%\n"
        },
        "id": "iNFfKBexv-7R"
      },
      "source": [
        "my_class_b.x= 2\n",
        "print(my_class_a.x) # Note that this is a reference to the class, therefore, they are pointing to the same thing which is why it changes. "
      ],
      "execution_count": null,
      "outputs": []
    },
    {
      "cell_type": "code",
      "metadata": {
        "pycharm": {
          "name": "#%%\n"
        },
        "id": "tZ0iYfeBv-7R"
      },
      "source": [
        "my_class_b == my_class_a"
      ],
      "execution_count": null,
      "outputs": []
    },
    {
      "cell_type": "code",
      "metadata": {
        "pycharm": {
          "name": "#%%\n"
        },
        "id": "v4y3z3ptv-7R"
      },
      "source": [
        "my_class_a = MyClass(1)\n",
        "my_class_c = MyClass(1)\n",
        "my_class_a == my_class_c"
      ],
      "execution_count": null,
      "outputs": []
    },
    {
      "cell_type": "code",
      "metadata": {
        "pycharm": {
          "name": "#%%\n"
        },
        "id": "NsYH2c7rv-7R"
      },
      "source": [
        "from copy import deepcopy\n",
        "my_class_a = MyClass(1)\n",
        "my_class_b = deepcopy(my_class_a)\n",
        "my_class_b == my_class_a"
      ],
      "execution_count": null,
      "outputs": []
    },
    {
      "cell_type": "code",
      "metadata": {
        "pycharm": {
          "name": "#%%\n"
        },
        "id": "16O41n_-v-7R"
      },
      "source": [
        "my_class_b.x= 2\n",
        "print(my_class_a.x)"
      ],
      "execution_count": null,
      "outputs": []
    },
    {
      "cell_type": "markdown",
      "metadata": {
        "id": "Owm0io_7v-7S"
      },
      "source": [
        "### The Ghost Bus Incidence\n",
        "\n",
        "---\n",
        "Is it usually a terrible idea to use mutable variables as default argument. The following snippets illustrate the point. "
      ]
    },
    {
      "cell_type": "code",
      "metadata": {
        "pycharm": {
          "name": "#%%\n"
        },
        "id": "hWcygEKFv-7S"
      },
      "source": [
        "class GhostBus:\n",
        "    def __init__(self, passengers=[]):\n",
        "        self.passengers = passengers\n",
        "    \n",
        "    def pick(self, name):\n",
        "        self.passengers.append(name)\n",
        "        \n",
        "    def drop(self, name):\n",
        "        self.passengers.remove(name)"
      ],
      "execution_count": null,
      "outputs": []
    },
    {
      "cell_type": "code",
      "metadata": {
        "pycharm": {
          "name": "#%%\n"
        },
        "id": "-9cjnum2v-7S"
      },
      "source": [
        "# Run this several times\n",
        "ghost_bus = GhostBus()\n",
        "ghost_bus.pick('A Ghost')\n",
        "ghost_bus.passengers"
      ],
      "execution_count": null,
      "outputs": []
    },
    {
      "cell_type": "markdown",
      "metadata": {
        "id": "YW2Mmym6x_OG"
      },
      "source": [
        "What goes wrong here? Note that self.passengers is a reference to passengers, and passengers is a refernece to `[]` (which is global). Note when you mutate self.passengers, you are mutating `[]` as well. So please use `None` instead. "
      ]
    },
    {
      "cell_type": "markdown",
      "metadata": {
        "id": "LdMnbYxDv-7S"
      },
      "source": [
        "### Common Data Structures: List\n",
        "\n",
        "---\n",
        "Python list is a little bit like C++ vector, except it can hold any type of object. It is ordered. "
      ]
    },
    {
      "cell_type": "code",
      "metadata": {
        "pycharm": {
          "name": "#%%\n"
        },
        "id": "u37CChEXv-7S"
      },
      "source": [
        "a = []\n",
        "# a = list()\n",
        "b= [1,a,'2']"
      ],
      "execution_count": null,
      "outputs": []
    },
    {
      "cell_type": "code",
      "metadata": {
        "pycharm": {
          "name": "#%%\n"
        },
        "id": "6eUkPbSVv-7S"
      },
      "source": [
        "b[0]"
      ],
      "execution_count": null,
      "outputs": []
    },
    {
      "cell_type": "code",
      "metadata": {
        "pycharm": {
          "name": "#%%\n"
        },
        "id": "NTPUDvEhv-7T"
      },
      "source": [
        "b[:1]"
      ],
      "execution_count": null,
      "outputs": []
    },
    {
      "cell_type": "code",
      "metadata": {
        "pycharm": {
          "name": "#%%\n"
        },
        "id": "F9z2pMDnv-7T"
      },
      "source": [
        "b[1:]"
      ],
      "execution_count": null,
      "outputs": []
    },
    {
      "cell_type": "code",
      "metadata": {
        "pycharm": {
          "name": "#%%\n"
        },
        "id": "MtL9tBILv-7T"
      },
      "source": [
        "b[2:3]"
      ],
      "execution_count": null,
      "outputs": []
    },
    {
      "cell_type": "code",
      "metadata": {
        "pycharm": {
          "name": "#%%\n"
        },
        "id": "aswePQjav-7T"
      },
      "source": [
        "b[-1]"
      ],
      "execution_count": null,
      "outputs": []
    },
    {
      "cell_type": "code",
      "metadata": {
        "pycharm": {
          "name": "#%%\n"
        },
        "id": "uJGc1GChv-7T"
      },
      "source": [
        "b[:-2]"
      ],
      "execution_count": null,
      "outputs": []
    },
    {
      "cell_type": "code",
      "metadata": {
        "pycharm": {
          "name": "#%%\n"
        },
        "id": "nVgXgPopv-7T"
      },
      "source": [
        "b.append(5)\n",
        "b"
      ],
      "execution_count": null,
      "outputs": []
    },
    {
      "cell_type": "code",
      "metadata": {
        "pycharm": {
          "name": "#%%\n"
        },
        "id": "yQGXGx53v-7T"
      },
      "source": [
        "b.extend([1,2])\n",
        "b"
      ],
      "execution_count": null,
      "outputs": []
    },
    {
      "cell_type": "code",
      "metadata": {
        "pycharm": {
          "name": "#%%\n"
        },
        "id": "_Kw4x2YTv-7T"
      },
      "source": [
        "b.insert(1,'haha')\n",
        "b"
      ],
      "execution_count": null,
      "outputs": []
    },
    {
      "cell_type": "code",
      "metadata": {
        "pycharm": {
          "name": "#%%\n"
        },
        "id": "BtQTt2Knv-7U"
      },
      "source": [
        "del b[0]\n",
        "b"
      ],
      "execution_count": null,
      "outputs": []
    },
    {
      "cell_type": "code",
      "metadata": {
        "pycharm": {
          "name": "#%%\n"
        },
        "id": "mtJbHA2xv-7U"
      },
      "source": [
        "b.remove(1)"
      ],
      "execution_count": null,
      "outputs": []
    },
    {
      "cell_type": "code",
      "metadata": {
        "pycharm": {
          "name": "#%%\n"
        },
        "id": "l8z0rKlAv-7U"
      },
      "source": [
        "matrix  = [[1,2],[3,4],[5,6],[7,8]]\n",
        "matrix"
      ],
      "execution_count": null,
      "outputs": []
    },
    {
      "cell_type": "code",
      "metadata": {
        "pycharm": {
          "name": "#%%\n"
        },
        "id": "bo0C4l_Gv-7U"
      },
      "source": [
        "tranpose =[[row(i) for rwo in matrix] for i in range(2)]"
      ],
      "execution_count": null,
      "outputs": []
    },
    {
      "cell_type": "markdown",
      "metadata": {
        "id": "Wt67-b6R354P"
      },
      "source": [
        "To understand what happens. Note that we have used a syntax. In short.\n",
        "\n",
        "```\n",
        "x = [i*2 for i in range(10]\n",
        "```\n",
        "\n",
        "is the same as\n",
        "\n",
        "```\n",
        "x = list()\n",
        "for i in range(10):\n",
        "    x.append(i)\n",
        "```"
      ]
    },
    {
      "cell_type": "markdown",
      "metadata": {
        "id": "5c537gAjv-7U"
      },
      "source": [
        "### Common Data Structures: Set\n",
        "\n",
        "---\n",
        "This is essentially a hashset, basically means it is unordered. The 'equivalent' in C++ will be unordered_set. Also, there are no duplicate element. "
      ]
    },
    {
      "cell_type": "code",
      "metadata": {
        "pycharm": {
          "name": "#%%\n"
        },
        "id": "Nk9-pzwov-7U"
      },
      "source": [
        "a = {1,2,3}"
      ],
      "execution_count": null,
      "outputs": []
    },
    {
      "cell_type": "code",
      "metadata": {
        "pycharm": {
          "name": "#%%\n"
        },
        "colab": {
          "base_uri": "https://localhost:8080/"
        },
        "id": "i-OYhqe3v-7V",
        "outputId": "b5124c66-79f2-41af-a54d-f5bda5ca3c8b"
      },
      "source": [
        "my_set = {1, 3}\n",
        "print(my_set)\n",
        "my_set.add(2)\n",
        "print(my_set)\n",
        "my_set.update([2, 3, 4])\n",
        "print(my_set)\n",
        "my_set.update([4, 5], {1, 6, 8})\n",
        "print(my_set)"
      ],
      "execution_count": null,
      "outputs": [
        {
          "output_type": "stream",
          "text": [
            "{1, 3}\n",
            "{1, 2, 3}\n",
            "{1, 2, 3, 4}\n",
            "{1, 2, 3, 4, 5, 6, 8}\n"
          ],
          "name": "stdout"
        }
      ]
    },
    {
      "cell_type": "code",
      "metadata": {
        "pycharm": {
          "name": "#%%\n"
        },
        "colab": {
          "base_uri": "https://localhost:8080/"
        },
        "id": "a3sa7o0iv-7V",
        "outputId": "9f0772a8-8578-4f68-a453-9456e801f3a1"
      },
      "source": [
        "my_set.add(1)\n",
        "my_set"
      ],
      "execution_count": null,
      "outputs": [
        {
          "output_type": "execute_result",
          "data": {
            "text/plain": [
              "{1, 2, 3, 4, 5, 6, 8}"
            ]
          },
          "metadata": {
            "tags": []
          },
          "execution_count": 15
        }
      ]
    },
    {
      "cell_type": "code",
      "metadata": {
        "pycharm": {
          "name": "#%%\n"
        },
        "colab": {
          "base_uri": "https://localhost:8080/"
        },
        "id": "_J4Owc8gv-7V",
        "outputId": "051ef552-b7b1-4c18-c0b2-644d976bc7f6"
      },
      "source": [
        "my_set.remove(1)\n",
        "my_set"
      ],
      "execution_count": null,
      "outputs": [
        {
          "output_type": "execute_result",
          "data": {
            "text/plain": [
              "{2, 3, 4, 5, 6, 8}"
            ]
          },
          "metadata": {
            "tags": []
          },
          "execution_count": 16
        }
      ]
    },
    {
      "cell_type": "code",
      "metadata": {
        "pycharm": {
          "name": "#%%\n"
        },
        "id": "WDGuisgxv-7V"
      },
      "source": [
        "set_a = {1,2,3}\n",
        "set_b = {3,4,5}"
      ],
      "execution_count": null,
      "outputs": []
    },
    {
      "cell_type": "markdown",
      "metadata": {
        "id": "bfhNGkEC4fo6"
      },
      "source": [
        "Here are some set operations. Pretty self-explanatory. "
      ]
    },
    {
      "cell_type": "code",
      "metadata": {
        "pycharm": {
          "name": "#%%\n"
        },
        "colab": {
          "base_uri": "https://localhost:8080/"
        },
        "id": "ROcO-nu3v-7V",
        "outputId": "97ecfa25-2cc6-439f-ba39-a495e1d9fe22"
      },
      "source": [
        "print(set_a|set_b)\n",
        "print(set_a - set_b)\n",
        "print(set_b - set_a)\n",
        "print(set_a.union(set_b))\n",
        "print(set_a.intersection(set_b))\n",
        "print(set_a^set_b)"
      ],
      "execution_count": null,
      "outputs": [
        {
          "output_type": "stream",
          "text": [
            "{1, 2, 3, 4, 5}\n",
            "{1, 2}\n",
            "{4, 5}\n",
            "{1, 2, 3, 4, 5}\n",
            "{3}\n",
            "{1, 2, 4, 5}\n"
          ],
          "name": "stdout"
        }
      ]
    },
    {
      "cell_type": "markdown",
      "metadata": {
        "id": "PNvXypsIv-7V"
      },
      "source": [
        "### Common Data Structures: Dict\n",
        "\n",
        "---\n",
        "Dict is basically a hashmap. Its 'equivalent' in C++ will be unordered map. Therefore it is not with an order. To avoid pain, if you need order, use OrderedDict. "
      ]
    },
    {
      "cell_type": "code",
      "metadata": {
        "pycharm": {
          "name": "#%%\n"
        },
        "id": "SP6bu2giv-7V"
      },
      "source": [
        "a = dict()\n",
        "a = {'x':'1', 'y':'2'}"
      ],
      "execution_count": null,
      "outputs": []
    },
    {
      "cell_type": "code",
      "metadata": {
        "pycharm": {
          "name": "#%%\n"
        },
        "id": "Dy29kC3Dv-7W"
      },
      "source": [
        "print(a['x'])\n",
        "print(a['not_here'])"
      ],
      "execution_count": null,
      "outputs": []
    },
    {
      "cell_type": "code",
      "metadata": {
        "pycharm": {
          "name": "#%%\n"
        },
        "id": "q7ez_5SUv-7W"
      },
      "source": [
        "a['new_element'] = 'haha'\n",
        "print(a)"
      ],
      "execution_count": null,
      "outputs": []
    },
    {
      "cell_type": "code",
      "metadata": {
        "pycharm": {
          "name": "#%%\n"
        },
        "id": "g1rNJr8Zv-7W"
      },
      "source": [
        "print(a.keys())\n",
        "print(a.values())"
      ],
      "execution_count": null,
      "outputs": []
    },
    {
      "cell_type": "code",
      "metadata": {
        "pycharm": {
          "name": "#%%\n"
        },
        "id": "k1scCz2Fv-7W"
      },
      "source": [
        "del a['new_element']"
      ],
      "execution_count": null,
      "outputs": []
    },
    {
      "cell_type": "code",
      "metadata": {
        "pycharm": {
          "name": "#%%\n"
        },
        "id": "oa5nS6_Uv-7W"
      },
      "source": [
        "a"
      ],
      "execution_count": null,
      "outputs": []
    },
    {
      "cell_type": "code",
      "metadata": {
        "pycharm": {
          "name": "#%%\n"
        },
        "id": "z0g1Wtnbv-7W"
      },
      "source": [
        "keys = ['a','b','c']\n",
        "values = [1,2,3]\n",
        "dict_from_zip = dict(zip(keys, values))\n",
        "print(dict_from_zip)"
      ],
      "execution_count": null,
      "outputs": []
    },
    {
      "cell_type": "code",
      "metadata": {
        "pycharm": {
          "name": "#%%\n"
        },
        "id": "8OQ1ud3zv-7W"
      },
      "source": [
        "def my_concat(**kwargs):\n",
        "    result = \"\"\n",
        "    \n",
        "    for k, v in kwargs.items():\n",
        "        result += v\n",
        "    return result\n",
        "my_concat(x=\"a\",y=\"b\")"
      ],
      "execution_count": null,
      "outputs": []
    },
    {
      "cell_type": "code",
      "metadata": {
        "pycharm": {
          "name": "#%%\n"
        },
        "id": "tjCvA7jOv-7W"
      },
      "source": [
        "my_concat(**a)"
      ],
      "execution_count": null,
      "outputs": []
    },
    {
      "cell_type": "code",
      "metadata": {
        "pycharm": {
          "name": "#%%\n"
        },
        "id": "FBSlkjtCv-7X"
      },
      "source": [
        "# You can also use dict comprehension to shorten your code. \n",
        "odd_squares = {x: x*x for x in range(11) if x % 2 == 1}\n",
        "print(odd_squares)"
      ],
      "execution_count": null,
      "outputs": []
    },
    {
      "cell_type": "markdown",
      "metadata": {
        "id": "Ef5oeStkv-7X"
      },
      "source": [
        "### Common Data Structure: NamedTuple"
      ]
    },
    {
      "cell_type": "code",
      "metadata": {
        "pycharm": {
          "name": "#%%\n"
        },
        "id": "UH691fCTv-7X"
      },
      "source": [
        "from collections import namedtuple"
      ],
      "execution_count": null,
      "outputs": []
    },
    {
      "cell_type": "code",
      "metadata": {
        "pycharm": {
          "name": "#%%\n"
        },
        "id": "PV9Byp-0v-7X"
      },
      "source": [
        "employee = namedtuple('Employee', ['age','place', 'education'])"
      ],
      "execution_count": null,
      "outputs": []
    },
    {
      "cell_type": "code",
      "metadata": {
        "pycharm": {
          "name": "#%%\n"
        },
        "id": "LVhPg5jMv-7X"
      },
      "source": [
        "tom = employee(age=10, place='beijing', education='none')"
      ],
      "execution_count": null,
      "outputs": []
    },
    {
      "cell_type": "code",
      "metadata": {
        "pycharm": {
          "name": "#%%\n"
        },
        "id": "rJAuWy5Qv-7X"
      },
      "source": [
        "print(tom)"
      ],
      "execution_count": null,
      "outputs": []
    },
    {
      "cell_type": "markdown",
      "metadata": {
        "id": "2BTBwzILv-7X"
      },
      "source": [
        "### Common Data Structure: dataclass\n",
        "\n",
        "---\n",
        "\n",
        "Data class is a great way to pass many parameters to a function. It helps with documentation, with range check, so people won't just stack anything into it. "
      ]
    },
    {
      "cell_type": "code",
      "metadata": {
        "pycharm": {
          "name": "#%%\n"
        },
        "id": "zVrtZQvmv-7Y"
      },
      "source": [
        "from dataclasses import dataclass, field\n",
        "from typing import Optional"
      ],
      "execution_count": null,
      "outputs": []
    },
    {
      "cell_type": "code",
      "metadata": {
        "pycharm": {
          "name": "#%%\n"
        },
        "id": "vcmPfkifv-7Y"
      },
      "source": [
        "@dataclass\n",
        "class MyDataClass:\n",
        "    name : str = field(\n",
        "    default='tom',\n",
        "    metadata={'help':\"Name of the person\"})\n",
        "    \n",
        "    age: Optional[int] = field(\n",
        "    default = None,\n",
        "    metadata={'help':\"Age of the pesson. Optional.\"})\n",
        "    \n",
        "    vip: int = field(\n",
        "    default = 100,\n",
        "    metadata = {'help':\"Some very important field.\"})\n",
        "        \n",
        "\n",
        "    def __post_init__(self): # This function will help you to handle ilegal argument. \n",
        "        if self.vip <= 0:\n",
        "            raise Exception(\"That important thing has to be larger than 0\")\n",
        "            \n",
        "    @property\n",
        "    def age_type(self):\n",
        "        if self.age >= 100:\n",
        "            return 'You are old'\n",
        "        else:\n",
        "            return 'You are still young' "
      ],
      "execution_count": null,
      "outputs": []
    },
    {
      "cell_type": "code",
      "metadata": {
        "pycharm": {
          "name": "#%%\n"
        },
        "id": "KoU5uzokv-7Y"
      },
      "source": [
        "my_data_class = MyDataClass(name='jerry', age = 20)\n",
        "print(my_data_class)"
      ],
      "execution_count": null,
      "outputs": []
    },
    {
      "cell_type": "code",
      "metadata": {
        "pycharm": {
          "name": "#%%\n"
        },
        "id": "QFmmyKNTv-7Y"
      },
      "source": [
        "print(my_data_class.age)\n",
        "print(my_data_class.age_type)"
      ],
      "execution_count": null,
      "outputs": []
    },
    {
      "cell_type": "markdown",
      "metadata": {
        "id": "BK-Yiafq5peu"
      },
      "source": [
        "A word about docs. \n",
        "\n",
        "In general, using [Spinx](https://www.sphinx-doc.org/en/master/) to generate a documentaion is a pretty good idea. Therefore, some command should be given to functions. In general, for public api's, the docstring should include at least \n",
        "\n",
        "1.   Functionality\n",
        "2.   Argument type and explanation.\n",
        "3.   Return type.\n",
        "4.   (Optional) A use case. \n",
        "\n",
        "Note that if a function will change some of the input parameter. This **MUST** be highlighted in the doc. \n"
      ]
    },
    {
      "cell_type": "markdown",
      "metadata": {
        "id": "_FD3zhmz6ZNo"
      },
      "source": [
        "## R \n",
        "\n",
        "---\n",
        "Before we venture into more advanced staff. Let us introduce very briefly what R does, and magic functions. To use R, you have to activate the functionality. "
      ]
    },
    {
      "cell_type": "code",
      "metadata": {
        "colab": {
          "base_uri": "https://localhost:8080/"
        },
        "id": "rhr6T4n46jd6",
        "outputId": "ffe11507-3330-4179-a6ee-af78f675a3aa"
      },
      "source": [
        "%load_ext rpy2.ipython"
      ],
      "execution_count": null,
      "outputs": [
        {
          "output_type": "stream",
          "text": [
            "/usr/local/lib/python3.6/dist-packages/rpy2/robjects/pandas2ri.py:14: FutureWarning: pandas.core.index is deprecated and will be removed in a future version.  The public classes are available in the top-level namespace.\n",
            "  from pandas.core.index import Index as PandasIndex\n",
            "/usr/local/lib/python3.6/dist-packages/rpy2/robjects/pandas2ri.py:34: UserWarning: pandas >= 1.0 is not supported.\n",
            "  warnings.warn('pandas >= 1.0 is not supported.')\n"
          ],
          "name": "stderr"
        }
      ]
    },
    {
      "cell_type": "markdown",
      "metadata": {
        "id": "au4UQkCe61qZ"
      },
      "source": [
        "To use R, we can use `%%R` cell magic. "
      ]
    },
    {
      "cell_type": "code",
      "metadata": {
        "colab": {
          "base_uri": "https://localhost:8080/"
        },
        "id": "8M1R_P-U6zgP",
        "outputId": "f2289a41-7e68-4485-efd9-32ec0e49e8d8"
      },
      "source": [
        "%%R # \bThis means \n",
        "install.packages('caret')"
      ],
      "execution_count": null,
      "outputs": [
        {
          "output_type": "stream",
          "text": [
            "R[write to console]: \n",
            "\n",
            "R[write to console]: \n",
            "R[write to console]: The downloaded source packages are in\n",
            "\t‘/tmp/RtmpDDbuDm/downloaded_packages’\n",
            "R[write to console]: \n",
            "R[write to console]: \n",
            "\n"
          ],
          "name": "stderr"
        }
      ]
    },
    {
      "cell_type": "code",
      "metadata": {
        "id": "MdsRApIH9qQQ"
      },
      "source": [
        "%%R \n",
        "library('caret')"
      ],
      "execution_count": null,
      "outputs": []
    },
    {
      "cell_type": "code",
      "metadata": {
        "id": "d3Dx5y749t4a"
      },
      "source": [
        "%%R\n",
        "a  <- 1\n",
        "2 -> b\n",
        "c = 1\n",
        "a == c"
      ],
      "execution_count": null,
      "outputs": []
    },
    {
      "cell_type": "code",
      "metadata": {
        "id": "1Atuc2Cm-Gqa"
      },
      "source": [
        "%%R\n",
        "for (i in 1:100){\n",
        "    print(i)\n",
        "}"
      ],
      "execution_count": null,
      "outputs": []
    },
    {
      "cell_type": "code",
      "metadata": {
        "id": "zopVUBV0-YQv"
      },
      "source": [
        "%%R\n",
        "myfunc <- function(a){\n",
        "    a = a+1\n",
        "    return(a+1)\n",
        "}"
      ],
      "execution_count": null,
      "outputs": []
    },
    {
      "cell_type": "code",
      "metadata": {
        "id": "t5hDC1th-g7B"
      },
      "source": [
        "%%R\n",
        "myfunc(a) # It will usually make a copy"
      ],
      "execution_count": null,
      "outputs": []
    },
    {
      "cell_type": "code",
      "metadata": {
        "id": "WmpzpUsv-sZR"
      },
      "source": [
        "%%R\n",
        "a"
      ],
      "execution_count": null,
      "outputs": []
    },
    {
      "cell_type": "code",
      "metadata": {
        "id": "AEgFtkuN-vOt"
      },
      "source": [
        "%%R\n",
        "data(mtcars) # This is a built-in R dataset"
      ],
      "execution_count": null,
      "outputs": []
    },
    {
      "cell_type": "code",
      "metadata": {
        "id": "tdteFBmp-0sm"
      },
      "source": [
        "%%R\n",
        "summary(mtcars)"
      ],
      "execution_count": null,
      "outputs": []
    },
    {
      "cell_type": "code",
      "metadata": {
        "id": "kwkdxgZ9-4ft"
      },
      "source": [
        "%%R\n",
        "mtcars$mpg"
      ],
      "execution_count": null,
      "outputs": []
    },
    {
      "cell_type": "markdown",
      "metadata": {
        "id": "QTD17FDxv-7Y"
      },
      "source": [
        "# Magic Functions in Python Object\n"
      ]
    },
    {
      "cell_type": "code",
      "metadata": {
        "id": "YdKoD7fav-7Y"
      },
      "source": [
        "class Vector:\n",
        "    def __init__(self, x=0, y=0):\n",
        "        self.x = x\n",
        "        self.y = y"
      ],
      "execution_count": null,
      "outputs": []
    },
    {
      "cell_type": "markdown",
      "metadata": {
        "id": "LTsFViqUv-7Y"
      },
      "source": [
        "Let us see if we can print it out in a nice way. "
      ]
    },
    {
      "cell_type": "code",
      "metadata": {
        "id": "EnNxTCV5v-7Y"
      },
      "source": [
        "class Vector:\n",
        "    def __init__(self, x=0, y=0):\n",
        "        self.x = x\n",
        "        self.y = y\n",
        "\n",
        "    def __repr__(self):\n",
        "        return 'Vector(%r,%r)' % (self.x, self.y)\n",
        "    def __str__(self):                              \n",
        "        return 'Vector(%r,%r)' % (self.x, self.y)"
      ],
      "execution_count": null,
      "outputs": []
    },
    {
      "cell_type": "code",
      "metadata": {
        "id": "9JyjIDbVv-7Z"
      },
      "source": [
        "v = Vector(1,2)\n",
        "print(str(v))\n",
        "print(v)"
      ],
      "execution_count": null,
      "outputs": []
    },
    {
      "cell_type": "markdown",
      "metadata": {
        "id": "urebnixrv-7Z"
      },
      "source": [
        "How about some arithmatics?"
      ]
    },
    {
      "cell_type": "code",
      "metadata": {
        "id": "_ayvAl-uv-7Z"
      },
      "source": [
        "class Vector:\n",
        "    def __init__(self, x=0, y=0):\n",
        "        self.x = x\n",
        "        self.y = y\n",
        "\n",
        "    def __repr__(self):\n",
        "        return 'Vector(%r,%r)' % (self.x, self.y)\n",
        "    \n",
        "    def __add__(self, other):\n",
        "        x = self.x + other.x\n",
        "        y = self.y + other.y\n",
        "        return Vector(x, y)\n",
        "    \n",
        "    def __sub__(self, other):\n",
        "        x = self.x - other.x\n",
        "        y = self.y - other.y\n",
        "        return Vector(x, y)\n",
        "    \n",
        "    def __mul__(self, scalar):\n",
        "        return Vector(self.x * scalar, self.y * scalar)"
      ],
      "execution_count": null,
      "outputs": []
    },
    {
      "cell_type": "code",
      "metadata": {
        "id": "RoeslxP-v-7Z"
      },
      "source": [
        "v1 = Vector(0,0)\n",
        "v2 = Vector(1,2)\n",
        "\n",
        "v1+v2"
      ],
      "execution_count": null,
      "outputs": []
    },
    {
      "cell_type": "markdown",
      "metadata": {
        "id": "kn5neGbjv-7Z"
      },
      "source": [
        "How about comparison"
      ]
    },
    {
      "cell_type": "code",
      "metadata": {
        "id": "HUbPuHaiv-7Z"
      },
      "source": [
        "from math import hypot\n",
        "\n",
        "class Vector:\n",
        "    def __init__(self, x=0, y=0):\n",
        "        self.x = x\n",
        "        self.y = y\n",
        "\n",
        "    def __repr__(self):\n",
        "        return 'Vector(%r,%r)' % (self.x, self.y)\n",
        "    \n",
        "    def __add__(self, other):\n",
        "        x = self.x + other.x\n",
        "        y = self.y + other.y\n",
        "        return Vector(x, y)\n",
        "    \n",
        "    def __sub__(self, other):\n",
        "        x = self.x - other.x\n",
        "        y = self.y - other.y\n",
        "        return Vector(x, y)\n",
        "    \n",
        "    def __mul__(self, scalar):\n",
        "        return Vector(self.x * scalar, self.y * scalar)\n",
        "    \n",
        "    def __abs__(self):\n",
        "        return hypot(self.x, self.y)\n",
        "    \n",
        "    def __bool__(self):\n",
        "        return bool(abs(self))\n",
        "    \n",
        "    def __eq__(self, other):\n",
        "        return self.x == other.x and self.y == other.y\n",
        "    \n",
        "    def __lt__(self, other):\n",
        "        return abs(self) < abs(other)\n",
        "    \n",
        "    def __gt__(self, other):\n",
        "        return abs(self) > abs(other)"
      ],
      "execution_count": null,
      "outputs": []
    },
    {
      "cell_type": "code",
      "metadata": {
        "id": "lmK0Dk3Ov-7a"
      },
      "source": [
        "v1 = Vector(1,1)\n",
        "v2 = Vector(1,1)\n",
        "v3 = Vector(1,2)\n",
        "\n",
        "print(v1 == v2)\n",
        "print(v1 == v3)\n",
        "\n",
        "print(v3 > v1)\n",
        "print(v1 < v3)"
      ],
      "execution_count": null,
      "outputs": []
    },
    {
      "cell_type": "markdown",
      "metadata": {
        "id": "k9hGcr9Bv-7a"
      },
      "source": [
        "## Basic Functional Programming in Python"
      ]
    },
    {
      "cell_type": "markdown",
      "metadata": {
        "id": "V4dBSftjv-7b"
      },
      "source": [
        "### Common Higher Older Function"
      ]
    },
    {
      "cell_type": "code",
      "metadata": {
        "pycharm": {
          "name": "#%%\n"
        },
        "id": "A8-9geUfv-7b"
      },
      "source": [
        "my_input = [1,2,3,4,5,6,6]\n",
        "result = map(lambda x: x+1, my_input)\n",
        "print(result) # map is lazy\n",
        "print(list(result))"
      ],
      "execution_count": null,
      "outputs": []
    },
    {
      "cell_type": "code",
      "metadata": {
        "pycharm": {
          "name": "#%%\n"
        },
        "id": "sJcV-c8Vv-7b"
      },
      "source": [
        "from functools import reduce\n",
        "result = reduce(lambda x, y: x+y, filter(lambda x: x > 3, map(lambda x: x+1, my_input)))"
      ],
      "execution_count": null,
      "outputs": []
    },
    {
      "cell_type": "code",
      "metadata": {
        "pycharm": {
          "name": "#%%\n"
        },
        "id": "NHWhqj5Xv-7b"
      },
      "source": [
        "print(result)"
      ],
      "execution_count": null,
      "outputs": []
    },
    {
      "cell_type": "markdown",
      "metadata": {
        "id": "vKeiMZ1Dv-7b"
      },
      "source": [
        "### Decorators"
      ]
    },
    {
      "cell_type": "code",
      "metadata": {
        "pycharm": {
          "name": "#%%\n"
        },
        "id": "ZmefSJ0dv-7b"
      },
      "source": [
        "def my_decorator(func):\n",
        "    def my_decorator_impl(x):\n",
        "        result = x if x > 0 else 0\n",
        "        return func(result)\n",
        "    return my_decorator_impl\n",
        "\n",
        "@my_decorator\n",
        "def myfunc(x):\n",
        "    return np.sqrt(x)"
      ],
      "execution_count": null,
      "outputs": []
    },
    {
      "cell_type": "code",
      "metadata": {
        "pycharm": {
          "name": "#%%\n"
        },
        "id": "Ro4FAnl6v-7c"
      },
      "source": [
        "myfunc(-1)"
      ],
      "execution_count": null,
      "outputs": []
    },
    {
      "cell_type": "code",
      "metadata": {
        "pycharm": {
          "name": "#%%\n"
        },
        "id": "hQiB8634v-7c"
      },
      "source": [
        "from functools import partial\n",
        "def decor_impl(fun, argument):\n",
        "    def impl(x):\n",
        "        result = x if x > argument else argument\n",
        "        return fun(result)\n",
        "    return impl\n",
        "\n",
        "decor = partial(decor_impl, argument = 2)\n",
        "\n",
        "@decor\n",
        "def myfunc(x):\n",
        "    return np.sqrt(x)"
      ],
      "execution_count": null,
      "outputs": []
    },
    {
      "cell_type": "code",
      "metadata": {
        "pycharm": {
          "name": "#%%\n"
        },
        "id": "3DZeQkflv-7c"
      },
      "source": [
        "myfunc(-1)"
      ],
      "execution_count": null,
      "outputs": []
    },
    {
      "cell_type": "code",
      "metadata": {
        "pycharm": {
          "name": "#%%\n"
        },
        "id": "DWD6ppucv-7c"
      },
      "source": [
        "def para(dec):\n",
        "    def layer(*args, **kwargs):\n",
        "        def repl(f):\n",
        "            return dec(f, *args, **kwargs)\n",
        "        return repl\n",
        "    return layer\n",
        "\n",
        "@para\n",
        "def decor(f, n):\n",
        "    def impl(x):\n",
        "        result = x if x > n else n\n",
        "        return f(result)\n",
        "    return impl\n",
        "\n",
        "@decor(0)\n",
        "def myfunc(x):\n",
        "    return np.sqrt(x)"
      ],
      "execution_count": null,
      "outputs": []
    },
    {
      "cell_type": "code",
      "metadata": {
        "pycharm": {
          "name": "#%%\n"
        },
        "id": "MQmxUwDbv-7c"
      },
      "source": [
        "myfunc(-1)"
      ],
      "execution_count": null,
      "outputs": []
    }
  ]
}